{
 "cells": [
  {
   "cell_type": "markdown",
   "id": "ef195e84-96ae-480b-95aa-c2da68501728",
   "metadata": {},
   "source": [
    "# Latam Challenge\n",
    "Resuelto por: Silvia Salinas Ayaviri"
   ]
  },
  {
   "cell_type": "markdown",
   "id": "bc4ee096-ee28-4e5b-ac59-ecbc114b2151",
   "metadata": {},
   "source": [
    "El objetivo es evaluar el rendimiento de diferentes funciones que procesan un archivo JSON con datos de tweets, optimizando tanto el tiempo de ejecución como el uso de memoria.\n",
    "\n",
    "El siguiente código en el archivo main.ipynb está diseñado para medir el tiempo de ejecución y el uso de memoria de varias funciones que procesan un archivo JSON con datos de tweets. A continuación, se describe el proceso y las tareas realizadas para desarrollar este código:\n",
    " - **Importación de las librerías necesarias**\n",
    "Se importan bibliotecas estándar y externas necesarias para medir el tiempo (time) y el uso de memoria    (memory_profiler).\n",
    "Se importan funciones específicas de diferentes archivos (q1_time, q1_memory, q2_time, q2_memory, q3_time,   q3_memory) que resuelven las preguntas planteadas en el desafío.\n",
    " - **Definición del path del archivo JSON**\n",
    " Se define la ruta del archivo JSON que contiene los datos de los tweets.\n",
    " - **Función para Medir el Tiempo de Ejecución** \n",
    " Se crea una función measure_time que toma una función y sus argumentos, mide el tiempo que tarda en ejecutarse y devuelve el resultado junto con el tiempo de ejecución.\n",
    " - **Función para medir el uso de memoria**\n",
    " Se crea una función measure_memory que toma una función y sus argumentos, mide el uso máximo de memoria durante su ejecución y devuelve el resultado junto con el uso de memoria.\n",
    " - **Ejecución y Medición de las Funciones por cada una de las 3 preguntas**\n",
    " Se mide el tiempo de ejecución y el uso de memoria de las funciones q1_time y q1_memory y se imprimen los resultados."
   ]
  },
  {
   "cell_type": "markdown",
   "id": "3767787d-4bb4-45fb-8441-8a2e8f48a2d3",
   "metadata": {},
   "source": [
    "Esta implementación abarca tanto la optimización del tiempo de ejecución como la optimización del uso de memoria. Utilizando memory-profiler y time, puedes medir y comparar los enfoques para cada uno de los problemas planteados. Las funciones están optimizadas para leer datos desde un archivo JSON y realizar los cálculos necesarios de la manera más eficiente posible en términos de tiempo y memoria."
   ]
  },
  {
   "cell_type": "code",
   "execution_count": 3,
   "id": "f6b10389-0298-494f-a9ed-634dabf0c1c9",
   "metadata": {},
   "outputs": [
    {
     "name": "stdout",
     "output_type": "stream",
     "text": [
      "Pregunta 1 - Optimización de tiempo\n",
      "Resultado: [(datetime.date(2021, 2, 12), 'RanbirS00614606'), (datetime.date(2021, 2, 13), 'MaanDee08215437'), (datetime.date(2021, 2, 17), 'RaaJVinderkaur'), (datetime.date(2021, 2, 16), 'jot__b'), (datetime.date(2021, 2, 14), 'rebelpacifist'), (datetime.date(2021, 2, 18), 'neetuanjle_nitu'), (datetime.date(2021, 2, 15), 'jot__b'), (datetime.date(2021, 2, 20), 'MangalJ23056160'), (datetime.date(2021, 2, 23), 'Surrypuria'), (datetime.date(2021, 2, 19), 'Preetm91')]\n",
      "Tiempo de ejecución: 6.323899030685425 segundos\n",
      "\n",
      "Pregunta 1 - Optimización de memoria\n",
      "Resultado: [(datetime.date(2021, 2, 12), 'RanbirS00614606'), (datetime.date(2021, 2, 13), 'MaanDee08215437'), (datetime.date(2021, 2, 17), 'RaaJVinderkaur'), (datetime.date(2021, 2, 16), 'jot__b'), (datetime.date(2021, 2, 14), 'rebelpacifist'), (datetime.date(2021, 2, 18), 'neetuanjle_nitu'), (datetime.date(2021, 2, 15), 'jot__b'), (datetime.date(2021, 2, 20), 'MangalJ23056160'), (datetime.date(2021, 2, 23), 'Surrypuria'), (datetime.date(2021, 2, 19), 'Preetm91')]\n",
      "Memoria usada: 477.72265625 MiB\n",
      "\n",
      "Pregunta 2 - Optimización de tiempo\n",
      "Resultado: [('🙏', 1916), ('❤️', 952), ('😂', 627), ('🌾', 529), ('💚', 493), ('👍', 459), ('👉', 450), ('✊', 437), ('🇮🇳', 399), ('👇', 387)]\n",
      "Tiempo de ejecución: 5.84387469291687 segundos\n",
      "\n",
      "Pregunta 2 - Optimización de memoria\n",
      "Resultado: [('🙏', 1916), ('❤️', 952), ('😂', 627), ('🌾', 529), ('💚', 493), ('👍', 459), ('👉', 450), ('✊', 437), ('🇮🇳', 399), ('👇', 387)]\n",
      "Memoria usada: 468.22265625 MiB\n",
      "\n",
      "Pregunta 3 - Optimización de tiempo\n",
      "Resultado: [('narendramodi', 2265), ('Kisanektamorcha', 1840), ('RakeshTikaitBKU', 1644), ('PMOIndia', 1427), ('RahulGandhi', 1146), ('GretaThunberg', 1048), ('RaviSinghKA', 1019), ('rihanna', 986), ('UNHumanRights', 962), ('meenaharris', 926)]\n",
      "Tiempo de ejecución: 3.2154970169067383 segundos\n",
      "\n",
      "Pregunta 3 - Optimización de memoria\n",
      "Resultado: [('narendramodi', 2265), ('Kisanektamorcha', 1840), ('RakeshTikaitBKU', 1644), ('PMOIndia', 1427), ('RahulGandhi', 1146), ('GretaThunberg', 1048), ('RaviSinghKA', 1019), ('rihanna', 986), ('UNHumanRights', 962), ('meenaharris', 926)]\n",
      "Memoria usada: 466.28125 MiB\n"
     ]
    }
   ],
   "source": [
    "# main.ipynb\n",
    "\n",
    "\n",
    "# Importación de bibliotecas necesarias\n",
    "import time\n",
    "from memory_profiler import memory_usage\n",
    "from src.q1_time import q1_time\n",
    "from src.q1_memory import q1_memory\n",
    "from src.q2_time import q2_time\n",
    "from src.q2_memory import q2_memory\n",
    "from src.q3_time import q3_time\n",
    "from src.q3_memory import q3_memory\n",
    "\n",
    "\n",
    "file_path = \"data/farmers-protest-tweets-2021-2-4.json\"\n",
    "\n",
    "# Función para medir el tiempo de ejecución\n",
    "def measure_time(func, *args):\n",
    "    start_time = time.time()\n",
    "    result = func(*args)\n",
    "    end_time = time.time()\n",
    "    execution_time = end_time - start_time\n",
    "    return result, execution_time\n",
    "\n",
    "# Función para medir el uso de memoria\n",
    "def measure_memory(func, *args):\n",
    "    def wrapper():\n",
    "        return func(*args)\n",
    "    \n",
    "    mem_usage, result = memory_usage(wrapper, retval=True, max_usage=True)\n",
    "    return result, mem_usage\n",
    "\n",
    "# Pregunta 1\n",
    "print(\"Pregunta 1 - Optimización de tiempo\")\n",
    "result_time, exec_time = measure_time(q1_time, file_path)\n",
    "print(\"Resultado:\", result_time)\n",
    "print(\"Tiempo de ejecución:\", exec_time, \"segundos\")\n",
    "\n",
    "print(\"\\nPregunta 1 - Optimización de memoria\")\n",
    "result_memory, mem_used = measure_memory(q1_memory, file_path)\n",
    "print(\"Resultado:\", result_memory)\n",
    "print(\"Memoria usada:\", mem_used, \"MiB\")\n",
    "\n",
    "# Pregunta 2\n",
    "print(\"\\nPregunta 2 - Optimización de tiempo\")\n",
    "result_time, exec_time = measure_time(q2_time, file_path)\n",
    "print(\"Resultado:\", result_time)\n",
    "print(\"Tiempo de ejecución:\", exec_time, \"segundos\")\n",
    "\n",
    "print(\"\\nPregunta 2 - Optimización de memoria\")\n",
    "result_memory, mem_used = measure_memory(q2_memory, file_path)\n",
    "print(\"Resultado:\", result_memory)\n",
    "print(\"Memoria usada:\", mem_used, \"MiB\")\n",
    "\n",
    "# Pregunta 3\n",
    "print(\"\\nPregunta 3 - Optimización de tiempo\")\n",
    "result_time, exec_time = measure_time(q3_time, file_path)\n",
    "print(\"Resultado:\", result_time)\n",
    "print(\"Tiempo de ejecución:\", exec_time, \"segundos\")\n",
    "\n",
    "print(\"\\nPregunta 3 - Optimización de memoria\")\n",
    "result_memory, mem_used = measure_memory(q3_memory, file_path)\n",
    "print(\"Resultado:\", result_memory)\n",
    "print(\"Memoria usada:\", mem_used, \"MiB\")"
   ]
  },
  {
   "cell_type": "markdown",
   "id": "a0c5f68b-ac2e-4c15-9524-a4f767234bde",
   "metadata": {
    "tags": []
   },
   "source": [
    "#Estructura de carpetas\n",
    "css\n",
    "\n",
    "#project/\n",
    "│\n",
    "├── src/\n",
    "│   ├── q1_time.py\n",
    "│   ├── q1_memory.py\n",
    "│   ├── q2_time.py\n",
    "│   ├── q2_memory.py\n",
    "│   ├── q3_time.py\n",
    "│   └── q3_memory.py\n",
    "│\n",
    "└── main.ipynb"
   ]
  },
  {
   "cell_type": "code",
   "execution_count": null,
   "id": "5a055f5d-5471-42e9-9450-95ed5e9e3cd0",
   "metadata": {},
   "outputs": [],
   "source": []
  }
 ],
 "metadata": {
  "kernelspec": {
   "display_name": "Python 3 (ipykernel)",
   "language": "python",
   "name": "python3"
  },
  "language_info": {
   "codemirror_mode": {
    "name": "ipython",
    "version": 3
   },
   "file_extension": ".py",
   "mimetype": "text/x-python",
   "name": "python",
   "nbconvert_exporter": "python",
   "pygments_lexer": "ipython3",
   "version": "3.11.7"
  }
 },
 "nbformat": 4,
 "nbformat_minor": 5
}
