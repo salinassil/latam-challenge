{
 "cells": [
  {
   "cell_type": "markdown",
   "id": "834549bf-1500-4a2e-bcb2-1c01bcfc088e",
   "metadata": {},
   "source": [
    "## Subir el Archivo a Google Cloud Platform\n",
    "\n",
    "Dado que no es posible compartir contraseñas, a continuación describo el proceso que se debería seguir para subir el archivo en la nube y leerlo desde ahí para ejecutar el challenge.\n",
    "\n",
    "Después de descargar el archivo, lo subiremos a Google Cloud Storage (GCS) para su procesamiento.\n",
    "\n",
    "Configurar las Credenciales de Google Cloud\n",
    "Asegúrate de tener un archivo de credenciales JSON y de establecer la variable de entorno GOOGLE_APPLICATION_CREDENTIALS:"
   ]
  },
  {
   "cell_type": "code",
   "execution_count": null,
   "id": "c36a5527-67c5-4fde-9860-777fc282209c",
   "metadata": {},
   "outputs": [],
   "source": [
    "!export GOOGLE_APPLICATION_CREDENTIALS=\"ruta/a/tu/archivo-credenciales.json\""
   ]
  },
  {
   "cell_type": "markdown",
   "id": "bb74b5ae-7c3c-4c7c-9d77-c4305888aea8",
   "metadata": {
    "tags": []
   },
   "source": [
    "## Script para Subir el Archivo a GCS\n",
    "Para subir el archivo a un bucket en Google Cloud Storage:\n",
    "\n"
   ]
  },
  {
   "cell_type": "code",
   "execution_count": null,
   "id": "e7e55a40-e200-4f14-ad25-6de44d8a8cca",
   "metadata": {},
   "outputs": [],
   "source": [
    "from google.cloud import storage\n",
    "\n",
    "def upload_to_bucket(bucket_name, source_file_name, destination_blob_name):\n",
    "    \"\"\"Sube un archivo al bucket de Google Cloud Storage.\"\"\"\n",
    "    storage_client = storage.Client()\n",
    "    bucket = storage_client.bucket(bucket_name)\n",
    "    blob = bucket.blob(destination_blob_name)\n",
    "    \n",
    "    blob.upload_from_filename(source_file_name)\n",
    "    print(f\"Archivo {source_file_name} subido al bucket {bucket_name} con el nombre {destination_blob_name}.\")\n",
    "\n",
    "# Configuración\n",
    "bucket_name = \"tu-nombre-del-bucket\"\n",
    "source_file_name = \"farmers-protest-tweets-2021-2-4.json\"\n",
    "destination_blob_name = \"farmers-protest-tweets-2021-2-4.json\"\n",
    "\n",
    "# Subir el archivo al bucket\n",
    "upload_to_bucket(bucket_name, source_file_name, destination_blob_name)"
   ]
  },
  {
   "cell_type": "markdown",
   "id": "cab55289-34b7-48ce-8992-f2a60f45b755",
   "metadata": {},
   "source": [
    "## Leer y Procesar el Archivo desde GCS\n",
    "Finalmente, leeremos el archivo desde GCS y realizaremos algún procesamiento de datos."
   ]
  },
  {
   "cell_type": "code",
   "execution_count": null,
   "id": "e97785b1-a635-4039-ac6b-fa66933d08e0",
   "metadata": {},
   "outputs": [],
   "source": [
    "from google.cloud import storage\n",
    "import json\n",
    "\n",
    "def download_blob(bucket_name, source_blob_name, destination_file_name):\n",
    "    \"\"\"Descarga un archivo desde el bucket de Google Cloud Storage.\"\"\"\n",
    "    storage_client = storage.Client()\n",
    "    bucket = storage_client.bucket(bucket_name)\n",
    "    blob = bucket.blob(source_blob_name)\n",
    "    blob.download_to_filename(destination_file_name)\n",
    "    print(f\"Archivo {source_blob_name} descargado a {destination_file_name}.\")\n",
    "\n",
    "def read_json(file_path):\n",
    "    \"\"\"Lee un archivo JSON y lo devuelve como un objeto Python.\"\"\"\n",
    "    with open(file_path, 'r', encoding='utf-8') as f:\n",
    "        data = json.load(f)\n",
    "    return data\n",
    "\n",
    "if __name__ == \"__main__\":\n",
    "    bucket_name = \"tu-nombre-del-bucket\"\n",
    "    source_blob_name = \"farmers-protest-tweets-2021-2-4.json\"\n",
    "    destination_file_name = \"data/farmers-protest-tweets-2021-2-4.json\"\n",
    "\n",
    "    # Descargar el archivo desde GCS\n",
    "    download_blob(bucket_name, source_blob_name, destination_file_name)\n",
    "    \n",
    "    # Leer el archivo JSON\n",
    "    data = read_json(destination_file_name)\n",
    "\n"
   ]
  }
 ],
 "metadata": {
  "kernelspec": {
   "display_name": "Python 3 (ipykernel)",
   "language": "python",
   "name": "python3"
  },
  "language_info": {
   "codemirror_mode": {
    "name": "ipython",
    "version": 3
   },
   "file_extension": ".py",
   "mimetype": "text/x-python",
   "name": "python",
   "nbconvert_exporter": "python",
   "pygments_lexer": "ipython3",
   "version": "3.11.7"
  }
 },
 "nbformat": 4,
 "nbformat_minor": 5
}
